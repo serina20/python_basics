{
  "nbformat": 4,
  "nbformat_minor": 0,
  "metadata": {
    "colab": {
      "provenance": []
    },
    "kernelspec": {
      "name": "python3",
      "display_name": "Python 3"
    },
    "language_info": {
      "name": "python"
    }
  },
  "cells": [
    {
      "cell_type": "markdown",
      "source": [
        "# python_basics"
      ],
      "metadata": {
        "id": "8Dylyd_gymHn"
      }
    },
    {
      "cell_type": "markdown",
      "source": [
        "1. What is Python, and why is it popular?\n",
        "\n",
        "  - Python is a high-level programmiing language widely known for its vast range of libaries and versitility. It's popular because it's easy to learn, has a vast ecosystem of libraries - for web development, data science, AI, etc., a strong community, and is cross-platform compatible, enabling rapid development across many applications.\n",
        "\n",
        "\n",
        "2.  What is an interpreter in Python?\n",
        "\n",
        "  - An interpreter in Python is the program that reads and executes the Python code. It processes the code line by line, translating it into instructions the computer can understand and running them directly, without needing a separate compilation step for the entire program.\n",
        "\n",
        "\n",
        "3. What are pre-defined keywords in Python?\n",
        "\n",
        "  - Pre-defined keywords in Python are reserved words that have special meanings and functionalities within the language. You cannot use them as names for your variables, functions, classes, or any other identifiers because they are already used by Python itself to define its syntax and structure.\n",
        "  Example: print, if, else, while, and, or, etc.\n",
        "\n",
        "\n",
        "4. Can keywords be used as variable names?\n",
        "\n",
        "  - No, keywords in python cannot be used as variable names. Each keyword like if, else, or, etc., has a pre-defined meaning and performs a specific function for the Python interpreter. Using them as variable names would make the interpreter unable to distinguish whether you want to define a variable or use the keyword's special functionality. This would lead to a syntax error.\n",
        "\n",
        "5. What is mutability in Python?\n",
        "\n",
        "  - Mutable objects/ containers/ data structures are those whose state or value can be changed after they are created. List is an example of mutable object. This is also called item assignment.\n",
        "\n",
        "6. Why are lists mutable, but tuples are immutable?\n",
        "  - Lists are mutable because they are designed to be dynamic collections where elements can be added, removed, or changed in-place after the list is created. This makes them flexible for data that needs to be modified.\n",
        "  Tuples are immutable because they are designed to be fixed collections. Once a tuple is created, its elements cannot be changed, added, or removed. This provides data integrity (not letting data get altered accidentally).\n",
        "\n",
        "7. What is the difference between “==” and “is” operators in Python?\n",
        "\n",
        "  - In python, \"==\" is a comparason operator while \"is\" is an identity operator.   \n",
        "\n",
        "  Equality (\"==\") oprator is used to check value equality. It determines the contents or values of the objects are same or not irrespective of their memory locations.\n",
        "  Example: [1,2,3] == [1,2,3]  \n",
        "  #this would return \"True\" as both the containers are equal in values even if stored at differnt memory locations.\n",
        "\n",
        "  Identity (\"is\") operator is used to check object identity. It determines if the variables refers to the same object in the memory.\n",
        "  Example: a = 5    b = 5    a is b    \n",
        "  #this will return \"True\" as both a nd b refer to the same object in the memory.\n",
        "\n",
        "8.  What are logical operators in Python?\n",
        "\n",
        "  - Logical operators in Python are used to combine conditional statements (expressions that evaluate to True or False) and return a Boolean result (True or False). They are:\n",
        "  \n",
        "  AND: Returns True if both operands are True.\n",
        "  OR: Returns True if at least one operand is True.\n",
        "  NOT: Reverses the Boolean value of an operand (turns True to False and False to True).\n",
        "\n",
        "9. What is type casting in Python?\n",
        "\n",
        "  - Type casting (also known as type conversion) in Python is the process of converting a value from one data type to another. This is useful when you need to perform operations that require specific data types, or when you receive data in one format and need to use it in another.\n",
        "\n",
        "10. What is the difference between implicit and explicit type casting?\n",
        "\n",
        "  - Implicit Type Casting (Coercion): Python's interpreter automatically converts one data type to another, usually to prevent data loss or errors in operations involving mixed types.\n",
        "  Example: an integer added to a float results in a float.\n",
        "  \n",
        "  Explicit Type Casting (Type Conversion): The programmer manually converts a data type using built-in functions like int(), float(), str(), etc. This gives you direct control over the conversion, even if it means potential data loss.\n",
        "  Example: converting a float to an integer truncates decimals.\n",
        "\n",
        "11. What is the purpose of conditional statements in Python?\n",
        "\n",
        "  - Conditional statements in Python like if, elif, and else, allow your program to make decisions. They execute different blocks of code based on whether specific conditions are true or false, enabling dynamic behavior and controlled program flow.\n",
        "\n",
        "12. How does the elif statement work?\n",
        "\n",
        "  - The elif statement in Python, short for \"else if,\" works by allowing you to check multiple conditions sequentially after an initial if statement.\n",
        "  \n",
        "  Working:\n",
        "\n",
        "  First the initial \"if\" statement is checked. If the condition is TRUE the code block associated with the \"if\" statement is executed and the remaining if-elif-else block is skipped.\n",
        "\n",
        "  If the initial \"if\" statement is FALSE the program moves on to the first \"elif\" code block.\n",
        "\n",
        "  If the \"elif\" condition is TRUE the code block is executed and the program comes out if the loop.\n",
        "\n",
        "  If the \"elif\" condition is FALSE the program proceeds to the next 'elif\" statement.\n",
        "\n",
        "  This process repeats itself until the next \"elif\" condition evaluates to TRUE and the corresponding code block is executed, skipping the remaining \"elif\" statements.\n",
        "\n",
        "  If none of the \"IF\" or \"elif\" conditions evaluates to TRUE then an optional \"else\" condition is executed and the program falls out of the loop.\n",
        "\n",
        "\n",
        "13. What is the difference between for and while loops?\n",
        "\n",
        "  - For and while lopps both are used to iterate over the items but their working is differnt from each other.\n",
        "\n",
        "  For loop is used when the user knows the number of iteration required. The iterations will occur only for the specified number of times. These are also used to iterate over the items in a list, tuple, string, etc.\n",
        "\n",
        "  While loop is used when the user does not know the number of iterations required. The program will continue in a loop until the given condition evaluates to FALSE.\n",
        "\n",
        "14. Describe a scenario where a while loop is more suitable than a for loop?\n",
        "\n",
        "  - Imagine you're building a simple \"Guess the Number\" game. The game needs to continue running, allowing the player to make guesses, until they guess the correct number.\n",
        "\n",
        "  Why while loop is more suitable than a for loop here - You don't know in advance how many guesses it will take the player to hit the right number. The loop's continuation is entirely dependent on the condition that the player's guess is not equal to the secret number. This \"continue as long as a condition is true\" is the perfect fit for a while loop. A for loop, which typically iterates a fixed number of times or over a collection, wouldn't naturally model this indefinite repetition.\n",
        "\n",
        "\n",
        "\n",
        "\n",
        "  "
      ],
      "metadata": {
        "id": "b_Atw2mXysj-"
      }
    },
    {
      "cell_type": "code",
      "source": [
        "# 1. Write a Python program to print \"Hello, World!\"\n",
        "\n",
        "print(\"Hello, World!\")"
      ],
      "metadata": {
        "id": "EGHaVS4fzEQa",
        "colab": {
          "base_uri": "https://localhost:8080/"
        },
        "outputId": "6cacd366-3652-479d-e84c-413d42d19b80"
      },
      "execution_count": null,
      "outputs": [
        {
          "output_type": "stream",
          "name": "stdout",
          "text": [
            "Hello, World!\n"
          ]
        }
      ]
    },
    {
      "cell_type": "code",
      "source": [
        "# 2. Write a Python program that displays your name and age\n",
        "\n",
        "#takes the input from the user\n",
        "name = input(\"Enter your name: \")\n",
        "age = input(\"Enter your age: \")\n",
        "print(\"\\nYour name is:\", name )\n",
        "print(\"Your age is:\", age)\n"
      ],
      "metadata": {
        "colab": {
          "base_uri": "https://localhost:8080/"
        },
        "id": "K7rrZhlzyuDl",
        "outputId": "76bda073-88a8-4e2c-d6ce-8a5ac2875457",
        "collapsed": true
      },
      "execution_count": 29,
      "outputs": [
        {
          "output_type": "stream",
          "name": "stdout",
          "text": [
            "Enter your name: serina\n",
            "Enter your age: 20\n",
            "\n",
            "Your name is: serina\n",
            "Your age is: 20\n"
          ]
        }
      ]
    },
    {
      "cell_type": "code",
      "source": [
        "# 3. Write code to print all the pre-defined keywords in Python using the keyword library\n",
        "\n",
        "#imports \"keyword\" module to access python's reserved keywords\n",
        "import keyword\n",
        "#\"keyword.kwlist\" is a list containing all the python keywords\n",
        "print(\"the keywords are:\", keyword.kwlist)"
      ],
      "metadata": {
        "id": "3tPtSqFGznwQ",
        "colab": {
          "base_uri": "https://localhost:8080/"
        },
        "outputId": "67a2ae9a-29f5-4278-df1e-5b7faeb19435"
      },
      "execution_count": 16,
      "outputs": [
        {
          "output_type": "stream",
          "name": "stdout",
          "text": [
            "the keywords are: ['False', 'None', 'True', 'and', 'as', 'assert', 'async', 'await', 'break', 'class', 'continue', 'def', 'del', 'elif', 'else', 'except', 'finally', 'for', 'from', 'global', 'if', 'import', 'in', 'is', 'lambda', 'nonlocal', 'not', 'or', 'pass', 'raise', 'return', 'try', 'while', 'with', 'yield']\n"
          ]
        }
      ]
    },
    {
      "cell_type": "code",
      "source": [
        "# 4. Write a program that checks if a given word is a Python keyword\n",
        "\n",
        "# imports \"keyword\" module to access python's reserved keywords\n",
        "import keyword\n",
        "\n",
        "word = input(\"Enter the word to check if it's a Python keyword: \")\n",
        "\n",
        "# checks if the given word is a python keyword or not\n",
        "if word in keyword.kwlist:\n",
        "  print(f\"\\n'{word}' is a Python keyword.\")\n",
        "else:\n",
        "  print(f\"\\n'{word}' is not a Python keyword.\")\n"
      ],
      "metadata": {
        "id": "CGZMHM014BFw",
        "colab": {
          "base_uri": "https://localhost:8080/"
        },
        "outputId": "84685b9c-543d-4a29-fcff-4fb777db3f37"
      },
      "execution_count": 28,
      "outputs": [
        {
          "output_type": "stream",
          "name": "stdout",
          "text": [
            "Enter the word to check if it's a Python keyword: if\n",
            "\n",
            "'if' is a Python keyword.\n"
          ]
        }
      ]
    },
    {
      "cell_type": "code",
      "source": [
        "# 5. Create a list and tuple in Python, and demonstrate how attempting to change an element works differently for each.\n",
        "\n",
        "\n",
        "# create a list\n",
        "my_list = [10, 20, 30, 40]\n",
        "print(\"Original list is: \", my_list)\n",
        "\n",
        "# attempt to change an element in the list\n",
        "try:\n",
        "  my_list[1] = 25\n",
        "  print(\"List after changing an element: \", my_list)\n",
        "except TypeError as e:\n",
        "  print(\"Error changing list element: \", e)\n",
        "\n",
        "\n",
        "# create a tuple\n",
        "my_tuple = (100, 200, 300, 400)\n",
        "print(\"\\nOriginal tuple:\", my_tuple)\n",
        "\n",
        "# attempt to change an element in the tuple\n",
        "try:\n",
        "  my_tuple[1] = 250\n",
        "  print(\"Tuple after changing an element:\", my_tuple)\n",
        "except TypeError as e:\n",
        "  print(\"Error changing tuple element:\", e)\n",
        "\n",
        "\n"
      ],
      "metadata": {
        "id": "8-sVPXSyT8Qn",
        "colab": {
          "base_uri": "https://localhost:8080/"
        },
        "outputId": "0ba73964-0377-4508-800a-644b885e9df3"
      },
      "execution_count": 26,
      "outputs": [
        {
          "output_type": "stream",
          "name": "stdout",
          "text": [
            "Original list is:  [10, 20, 30, 40]\n",
            "List after changing an element:  [10, 25, 30, 40]\n",
            "\n",
            "Original tuple: (100, 200, 300, 400)\n",
            "Error changing tuple element: 'tuple' object does not support item assignment\n"
          ]
        }
      ]
    },
    {
      "cell_type": "code",
      "source": [
        "# 6. Write a function to demonstrate the behavior of mutable and immutable arguments.\n",
        "\n",
        "\n",
        "def modify_arguments(mutable_list, immutable_string):\n",
        "\n",
        "  print(\"\\nInside the function: \\n\")\n",
        "  print(\"Original mutable_list:\", mutable_list)\n",
        "  print(\"Original immutable_string: \", immutable_string)\n",
        "\n",
        "  # modify the mutable argument\n",
        "  mutable_list.append(50)\n",
        "  print(\"Modified mutable_list:\", mutable_list)\n",
        "\n",
        "  # attempt to modify the immutable argument\n",
        "  immutable_string = immutable_string + \" world\"\n",
        "  print(\"Modified immutable_string (inside function):\", immutable_string)\n",
        "\n",
        "# demonstrate with mutable and immutable variables\n",
        "\n",
        "my_list = [10, 20, 30]\n",
        "my_string = \"hello\"\n",
        "\n",
        "print(\"Before calling the function: \\n\")\n",
        "print(\"my_list:\", my_list)\n",
        "print(\"my_string:\", my_string)\n",
        "\n",
        "modify_arguments(my_list, my_string)\n",
        "\n",
        "print(\"\\nAfter calling the function: \\n\")\n",
        "print(\"my_list:\", my_list)\n",
        "print(\"my_string:\", my_string)"
      ],
      "metadata": {
        "id": "rrTU1_QkdvF-",
        "colab": {
          "base_uri": "https://localhost:8080/"
        },
        "outputId": "36f18599-cbe8-491a-83a7-10bce50a947a"
      },
      "execution_count": 25,
      "outputs": [
        {
          "output_type": "stream",
          "name": "stdout",
          "text": [
            "Before calling the function: \n",
            "\n",
            "my_list: [10, 20, 30]\n",
            "my_string: hello\n",
            "\n",
            "Inside the function: \n",
            "\n",
            "Original mutable_list: [10, 20, 30]\n",
            "Original immutable_string:  hello\n",
            "Modified mutable_list: [10, 20, 30, 50]\n",
            "Modified immutable_string (inside function): hello world\n",
            "\n",
            "After calling the function: \n",
            "\n",
            "my_list: [10, 20, 30, 50]\n",
            "my_string: hello\n"
          ]
        }
      ]
    },
    {
      "cell_type": "code",
      "source": [
        "# 7. Write a program that performs basic arithmetic operations on two user-input numbers.\n",
        "\n",
        "\n",
        "  # get user input for two numbers\n",
        "try: # the try block contains the code that might raise an exception\n",
        "\n",
        "  num1 = float(input(\"Enter the first number: \"))\n",
        "  num2 = float(input(\"Enter the second number: \"))\n",
        "\n",
        "  # perform arithmetic operations\n",
        "  addition = num1 + num2\n",
        "  subtract = num1 - num2\n",
        "  multiply = num1 * num2\n",
        "\n",
        "  # handle division by zero\n",
        "  if num2 != 0:\n",
        "    divide = num1 / num2\n",
        "    print(f\"\\nAddition: {addition}\")\n",
        "    print(f\"Subtraction: {subtract}\")\n",
        "    print(f\"Multiplication: {multiply}\")\n",
        "    print(f\"Division: {divide}\")\n",
        "  else:\n",
        "    print(f\"\\nAddition: {addition}\")\n",
        "    print(f\"Subtraction: {subtract}\")\n",
        "    print(f\"Multiplication: {multiply}\")\n",
        "    print(\"Division by zero is not allowed.\")\n",
        "\n",
        "except ValueError: # except block catches and handles specific exceptions that occur within the try block.\n",
        "\n",
        "  # add a simple except block to catch potential non-numeric input\n",
        "  print(\"Invalid input. Please enter numeric values.\")\n"
      ],
      "metadata": {
        "id": "dKVq1d_Tff07",
        "colab": {
          "base_uri": "https://localhost:8080/"
        },
        "outputId": "35839331-7a04-494a-b187-58e6c0b7e267"
      },
      "execution_count": 32,
      "outputs": [
        {
          "output_type": "stream",
          "name": "stdout",
          "text": [
            "Enter the first number: 2\n",
            "Enter the second number: 2\n",
            "\n",
            "Addition: 4.0\n",
            "Subtraction: 0.0\n",
            "Multiplication: 4.0\n",
            "Division: 1.0\n"
          ]
        }
      ]
    },
    {
      "cell_type": "code",
      "source": [
        "# 8. Write a program to demonstrate the use of logical operators.\n",
        "\n",
        "\n",
        "# define some variables\n",
        "a = True\n",
        "b = False\n",
        "c = True\n",
        "d = False\n",
        "\n",
        "# AND operator - Returns True only if both operands are true\n",
        "print(\"AND Operator:\")\n",
        "print(f\"{a} AND {b} = {a and b}\")  # True AND False = False\n",
        "print(f\"{a} AND {c} = {a and c}\")  # True AND True = True\n",
        "print(f\"{b} AND {d} = {b and d}\")  # False AND False = False\n",
        "\n",
        "# OR operator - Returns True if at least one operand is true\n",
        "print(\"\\nOR Operator:\")\n",
        "print(f\"{a} OR {b} = {a or b}\")    # True OR False = True\n",
        "print(f\"{b} OR {d} = {b or d}\")    # False OR False = False\n",
        "print(f\"{a} OR {c} = {a or c}\")    # True OR True = True\n",
        "\n",
        "# NOT operator - Returns the opposite of the operand\n",
        "print(\"\\nNOT Operator:\")\n",
        "print(f\"NOT {a} = {not a}\")        # NOT True = False\n",
        "print(f\"NOT {b} = {not b}\")        # NOT False = True\n",
        "\n"
      ],
      "metadata": {
        "id": "gJbykA1Xf90k",
        "colab": {
          "base_uri": "https://localhost:8080/"
        },
        "outputId": "b7818c34-f5df-4a18-965e-491a6f160392"
      },
      "execution_count": 33,
      "outputs": [
        {
          "output_type": "stream",
          "name": "stdout",
          "text": [
            "AND Operator:\n",
            "True AND False = False\n",
            "True AND True = True\n",
            "False AND False = False\n",
            "\n",
            "OR Operator:\n",
            "True OR False = True\n",
            "False OR False = False\n",
            "True OR True = True\n",
            "\n",
            "NOT Operator:\n",
            "NOT True = False\n",
            "NOT False = True\n"
          ]
        }
      ]
    },
    {
      "cell_type": "code",
      "source": [
        "# 9. Write a Python program to convert user input from string to integer, float, and boolean types.\n",
        "\n",
        "user_input = input(\"enter a value: \")\n",
        "print(\"user input is: \", user_input)\n",
        "print(\"type of value is: \", type(user_input))\n",
        "\n",
        "try:\n",
        "  #convert to integer\n",
        "\n",
        "  print(\"\\nconverting the value to int\")\n",
        "  int_value = int(user_input)\n",
        "  print(f\"{user_input} converted to an integer is: {int_value}\")\n",
        "  print(\"type of value is: \", type(int_value))\n",
        "\n",
        "  #convert to float\n",
        "\n",
        "  print(\"\\nconverting the value to float\")\n",
        "  float_value = float(user_input)\n",
        "  print(f\"{user_input} converted to float is: {float_value}\")\n",
        "  print(\"type of value is: \", type(float_value))\n",
        "\n",
        "\n",
        "\n",
        "  #convert to boolean\n",
        "\n",
        "  print(\"\\nconverting the value to boolean\")\n",
        "  bool_value = bool(user_input)\n",
        "  print(f\"{user_input} converted to boolean is: {bool_value}\")\n",
        "  print(\"type of value is: \", type(bool_value))\n",
        "\n",
        "\n",
        "except ValueError:\n",
        "  print(\"invalid input. please enter a numeric value.\")\n",
        "\n"
      ],
      "metadata": {
        "id": "f_qeT-DLhtYu",
        "colab": {
          "base_uri": "https://localhost:8080/"
        },
        "outputId": "ad171d89-f425-48a0-ee0a-7f083536a4bd"
      },
      "execution_count": 34,
      "outputs": [
        {
          "output_type": "stream",
          "name": "stdout",
          "text": [
            "enter a value: 3\n",
            "user input is:  3\n",
            "type of value is:  <class 'str'>\n",
            "\n",
            "converting the value to int\n",
            "3 converted to an integer is: 3\n",
            "type of value is:  <class 'int'>\n",
            "\n",
            "converting the value to float\n",
            "3 converted to float is: 3.0\n",
            "type of value is:  <class 'float'>\n",
            "\n",
            "converting the value to boolean\n",
            "3 converted to boolean is: True\n",
            "type of value is:  <class 'bool'>\n"
          ]
        }
      ]
    },
    {
      "cell_type": "code",
      "source": [
        "# 10. Write code to demonstrate type casting with list elements.\n",
        "\n",
        "\n",
        "def demonstrate_list_type_casting():\n",
        "\n",
        "\n",
        "    #  1. initial list with mixed data types\n",
        "\n",
        "    original_list = [\"10\", \"25.5\", \"True\", \"False\", \"-7\", \"hello\",]\n",
        "    print(f\"Original List: {original_list}\")\n",
        "    print(f\"Original List Element Types (before casting):\")\n",
        "    for item in original_list:\n",
        "        print(f\" '{item}': {type(item)}\")\n",
        "    print(\"\\n\" + \"=\" * 60 + \"\\n\")\n",
        "\n",
        "    # 2. type casting to integer (int)\n",
        "\n",
        "    integers_list = []\n",
        "    print(\"Attempting to cast elements to 'int':\")\n",
        "    for item in original_list:\n",
        "        try:\n",
        "            int_value = int(item) # Attempt to convert the item to an integer\n",
        "            integers_list.append(int_value)\n",
        "            print(f\"  SUCCESS: '{item}' (type: {type(item)}) -> {int_value} (type: {type(int_value)})\")\n",
        "        except ValueError:\n",
        "            # if conversion fails (e.g., \"25.5\", \"True\", \"hello\" cannot be int),\n",
        "            integers_list.append(None) # appending None to indicate failure for this item\n",
        "            print(f\"  FAILED: '{item}' (type: {type(item)}) cannot be cast to 'int'. Appending 'None'.\")\n",
        "        except Exception as e:\n",
        "            # catch any other unexpected errors during conversion\n",
        "            integers_list.append(None)\n",
        "            print(f\"  ERROR: '{item}' (type: {type(item)}) - An unexpected error occurred: {e}. Appending 'None'.\")\n",
        "\n",
        "    print(f\"\\nList after casting to Integers: {integers_list}\")\n",
        "    print(\"\\n\" + \"=\" * 60 + \"\\n\")\n",
        "\n",
        "    # 3. type casting to float (float)\n",
        "    floats_list = []\n",
        "    print(\"Attempting to cast elements to 'float':\")\n",
        "    for item in original_list:\n",
        "        try:\n",
        "            float_value = float(item) # attempt to convert the item to a float\n",
        "            floats_list.append(float_value)\n",
        "            print(f\"  SUCCESS: '{item}' (type: {type(item)}) -> {float_value} (type: {type(float_value)})\")\n",
        "        except ValueError:\n",
        "            # if conversion fails (e.g., \"hello\" cannot be float), catch the error.\n",
        "            floats_list.append(None) # appending None to indicate failure\n",
        "            print(f\"  FAILED: '{item}' (type: {type(item)}) cannot be cast to 'float'. Appending 'None'.\")\n",
        "        except Exception as e:\n",
        "            floats_list.append(None)\n",
        "            print(f\"  ERROR: '{item}' (type: {type(item)}) - An unexpected error occurred: {e}. Appending 'None'.\")\n",
        "\n",
        "    print(f\"\\nList after casting to Floats: {floats_list}\")\n",
        "    print(\"\\n\" + \"=\" * 60 + \"\\n\")\n",
        "\n",
        "    # 4. Type Casting to String (str)\n",
        "    # all python objects can generally be converted to a string representation.\n",
        "    strings_list = []\n",
        "    print(\"Attempting to cast elements to 'str':\")\n",
        "    for item in original_list:\n",
        "        str_value = str(item) # convert the item to a string\n",
        "        strings_list.append(str_value)\n",
        "        print(f\"  SUCCESS: '{item}' (type: {type(item)}) -> '{str_value}' (type: {type(str_value)})\")\n",
        "\n",
        "    print(f\"\\nList after casting to Strings: {strings_list}\")\n",
        "\n",
        "\n",
        "# call the function to run the demonstration\n",
        "demonstrate_list_type_casting()"
      ],
      "outputs": [
        {
          "output_type": "stream",
          "name": "stdout",
          "text": [
            "Original List: ['10', '25.5', 'True', 'False', '-7', 'hello']\n",
            "Original List Element Types (before casting):\n",
            " '10': <class 'str'>\n",
            " '25.5': <class 'str'>\n",
            " 'True': <class 'str'>\n",
            " 'False': <class 'str'>\n",
            " '-7': <class 'str'>\n",
            " 'hello': <class 'str'>\n",
            "\n",
            "============================================================\n",
            "\n",
            "Attempting to cast elements to 'int':\n",
            "  SUCCESS: '10' (type: <class 'str'>) -> 10 (type: <class 'int'>)\n",
            "  FAILED: '25.5' (type: <class 'str'>) cannot be cast to 'int'. Appending 'None'.\n",
            "  FAILED: 'True' (type: <class 'str'>) cannot be cast to 'int'. Appending 'None'.\n",
            "  FAILED: 'False' (type: <class 'str'>) cannot be cast to 'int'. Appending 'None'.\n",
            "  SUCCESS: '-7' (type: <class 'str'>) -> -7 (type: <class 'int'>)\n",
            "  FAILED: 'hello' (type: <class 'str'>) cannot be cast to 'int'. Appending 'None'.\n",
            "\n",
            "List after casting to Integers: [10, None, None, None, -7, None]\n",
            "\n",
            "============================================================\n",
            "\n",
            "Attempting to cast elements to 'float':\n",
            "  SUCCESS: '10' (type: <class 'str'>) -> 10.0 (type: <class 'float'>)\n",
            "  SUCCESS: '25.5' (type: <class 'str'>) -> 25.5 (type: <class 'float'>)\n",
            "  FAILED: 'True' (type: <class 'str'>) cannot be cast to 'float'. Appending 'None'.\n",
            "  FAILED: 'False' (type: <class 'str'>) cannot be cast to 'float'. Appending 'None'.\n",
            "  SUCCESS: '-7' (type: <class 'str'>) -> -7.0 (type: <class 'float'>)\n",
            "  FAILED: 'hello' (type: <class 'str'>) cannot be cast to 'float'. Appending 'None'.\n",
            "\n",
            "List after casting to Floats: [10.0, 25.5, None, None, -7.0, None]\n",
            "\n",
            "============================================================\n",
            "\n",
            "Attempting to cast elements to 'str':\n",
            "  SUCCESS: '10' (type: <class 'str'>) -> '10' (type: <class 'str'>)\n",
            "  SUCCESS: '25.5' (type: <class 'str'>) -> '25.5' (type: <class 'str'>)\n",
            "  SUCCESS: 'True' (type: <class 'str'>) -> 'True' (type: <class 'str'>)\n",
            "  SUCCESS: 'False' (type: <class 'str'>) -> 'False' (type: <class 'str'>)\n",
            "  SUCCESS: '-7' (type: <class 'str'>) -> '-7' (type: <class 'str'>)\n",
            "  SUCCESS: 'hello' (type: <class 'str'>) -> 'hello' (type: <class 'str'>)\n",
            "\n",
            "List after casting to Strings: ['10', '25.5', 'True', 'False', '-7', 'hello']\n"
          ]
        }
      ],
      "execution_count": 35,
      "metadata": {
        "id": "VAHuKnO4vzu4",
        "colab": {
          "base_uri": "https://localhost:8080/"
        },
        "outputId": "8ae0838c-f4c7-487d-f3bd-614e49da40b4"
      }
    },
    {
      "cell_type": "code",
      "source": [
        "# 11. Write a program that checks if a number is positive, negative, or zero.\n",
        "\n",
        "\n",
        "\n",
        "def check_number_sign():\n",
        "\n",
        "\n",
        "    user_input_number = None # initialize variable to store the number\n",
        "\n",
        "    # loop to ensure valid numeric input\n",
        "    while user_input_number is None:\n",
        "        number_str = input(\"Please enter a number: \")\n",
        "        try:\n",
        "            # attempt to convert the input string to a float.\n",
        "            user_input_number = float(number_str)\n",
        "        except ValueError:\n",
        "            # catch the error if the input string cannot be converted to a float.\n",
        "            print(f\"Error: '{number_str}' is not a valid number. Please enter a numeric value.\")\n",
        "        except Exception as e:\n",
        "            # catch any other unexpected errors during conversion.\n",
        "            print(f\"An unexpected error occurred: {e}. Please try again.\")\n",
        "\n",
        "    print(f\"\\nYou entered: {user_input_number}\\n\")\n",
        "\n",
        "    # check the sign of the number\n",
        "    if user_input_number > 0:\n",
        "        # if the number is greater than 0, it's positive.\n",
        "        print(\"Result: The number is POSITIVE.\")\n",
        "    elif user_input_number < 0:\n",
        "        # if the number is less than 0, it's negative.\n",
        "        print(\"Result: The number is NEGATIVE.\")\n",
        "    else:\n",
        "        # if it's neither greater than 0 nor less than 0, it must be zero.\n",
        "        print(\"Result: The number is ZERO.\")\n",
        "\n",
        "\n",
        "# call the function to run the program\n",
        "check_number_sign()"
      ],
      "outputs": [
        {
          "output_type": "stream",
          "name": "stdout",
          "text": [
            "Please enter a number: 3\n",
            "\n",
            "You entered: 3.0\n",
            "\n",
            "Result: The number is POSITIVE.\n"
          ]
        }
      ],
      "execution_count": 36,
      "metadata": {
        "id": "DP-89b1O9HaV",
        "colab": {
          "base_uri": "https://localhost:8080/"
        },
        "outputId": "8ba18e21-e5d0-46b0-d993-c440ab4f8e52"
      }
    },
    {
      "cell_type": "code",
      "source": [
        "# 12. Write a for loop to print numbers from 1 to 10.\n",
        "\n",
        "print(\"numbers from 1 to 10 are given below: \")\n",
        "for i in range(1,11): # the range function will generate numbers up to, but not including 11. hence we will get numbers from 1 tp 10.\n",
        "  print(i)\n"
      ],
      "metadata": {
        "id": "y8qx6sZ29sxv",
        "colab": {
          "base_uri": "https://localhost:8080/"
        },
        "outputId": "edcd547f-d846-46e7-ea34-e6c6cf51a041"
      },
      "execution_count": 37,
      "outputs": [
        {
          "output_type": "stream",
          "name": "stdout",
          "text": [
            "numbers from 1 to 10 are given below: \n",
            "1\n",
            "2\n",
            "3\n",
            "4\n",
            "5\n",
            "6\n",
            "7\n",
            "8\n",
            "9\n",
            "10\n"
          ]
        }
      ]
    },
    {
      "cell_type": "code",
      "source": [
        "# 13. Write a Python program to find the sum of all even numbers between 1 and 50.\n",
        "\n",
        "\n",
        "def sum_even_numbers_1_to_50():\n",
        "\n",
        "    # initialize a variable to store the sum\n",
        "    total_sum = 0\n",
        "\n",
        "    # the range function will generate numbers up to, but not including 51. hence we will get numbers from 1 to 50.\n",
        "    for number in range(1, 51):\n",
        "        # checking if the number is even if the remainder when divided by 2 is 0.\n",
        "      if number % 2 == 0:\n",
        "            # if the number is even, add it to our total_sum.\n",
        "            total_sum += number\n",
        "\n",
        "    # after the loop finishes, print the final sum.\n",
        "    print(f\"The sum of all even numbers between 1 and 50 is: {total_sum}\")\n",
        "\n",
        "# call the function to execute it\n",
        "sum_even_numbers_1_to_50()\n"
      ],
      "metadata": {
        "id": "S0xf9-m1-OQ2",
        "colab": {
          "base_uri": "https://localhost:8080/"
        },
        "outputId": "b0ff0955-2928-4e0f-ba00-241c2e41aecd"
      },
      "execution_count": 38,
      "outputs": [
        {
          "output_type": "stream",
          "name": "stdout",
          "text": [
            "The sum of all even numbers between 1 and 50 is: 650\n"
          ]
        }
      ]
    },
    {
      "cell_type": "code",
      "source": [
        "# 14. Write a program to reverse a string using a while loop.\n",
        "\n",
        "\n",
        "def reverse_string_while_loop(s):\n",
        "\n",
        "  reversed_s = \"\"\n",
        "  index = len(s) - 1  # start from the last character\n",
        "\n",
        "  while index >= 0:\n",
        "    reversed_s += s[index]\n",
        "    index -= 1\n",
        "  return reversed_s\n",
        "\n",
        "# get input from the user\n",
        "input_string = input(\"Enter a string to reverse: \")\n",
        "\n",
        "# reverse the string and print the result\n",
        "reversed_string = reverse_string_while_loop(input_string)\n",
        "print(f\"\\nThe original string is: {input_string}\")\n",
        "print(f\"The reversed string is: {reversed_string}\")"
      ],
      "metadata": {
        "id": "EbnzoQ55_-qt",
        "colab": {
          "base_uri": "https://localhost:8080/"
        },
        "outputId": "9e876b4a-4658-4b55-fcfa-65833daf033b"
      },
      "execution_count": 40,
      "outputs": [
        {
          "output_type": "stream",
          "name": "stdout",
          "text": [
            "Enter a string to reverse: serina\n",
            "\n",
            "The original string is: serina\n",
            "The reversed string is: anires\n"
          ]
        }
      ]
    },
    {
      "cell_type": "code",
      "source": [
        "# 15. Write a Python program to calculate the factorial of a number provided by the user using a while loop.\n",
        "\n",
        "\n",
        "def calculate_factorial():\n",
        "\n",
        "    while True:\n",
        "        try:\n",
        "            # get input from the user\n",
        "            num_str = input(\"Enter a non-negative integer to calculate its factorial: \")\n",
        "            num = int(num_str)\n",
        "\n",
        "            # handle negative numbers\n",
        "            if num < 0:\n",
        "                print(\"Factorial is not defined for negative numbers. Please enter a non-negative integer.\")\n",
        "            else:\n",
        "                break # exit the loop if input is valid\n",
        "        except ValueError:\n",
        "            print(\"Invalid input. Please enter an integer.\")\n",
        "\n",
        "    # initialize factorial to 1\n",
        "    factorial = 1\n",
        "\n",
        "    # store the original number for printing the result\n",
        "    original_num = num\n",
        "\n",
        "    # calculate factorial using a while loop\n",
        "    while num > 0:\n",
        "        factorial *= num\n",
        "        num -= 1\n",
        "\n",
        "    # print the result\n",
        "    print(f\"\\nThe factorial of {original_num} is {factorial}\")\n",
        "\n",
        "# call the function to execute the program\n",
        "calculate_factorial()"
      ],
      "outputs": [
        {
          "output_type": "stream",
          "name": "stdout",
          "text": [
            "Enter a non-negative integer to calculate its factorial: 5\n",
            "\n",
            "The factorial of 5 is 120\n"
          ]
        }
      ],
      "execution_count": 42,
      "metadata": {
        "id": "AKmNbLShKbAL",
        "colab": {
          "base_uri": "https://localhost:8080/"
        },
        "outputId": "2b97c480-17e9-4077-9d63-c674cb03ee49"
      }
    }
  ]
}